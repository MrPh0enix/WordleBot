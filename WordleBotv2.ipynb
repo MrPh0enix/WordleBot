{
 "cells": [
  {
   "cell_type": "code",
   "execution_count": null,
   "id": "12ac1bb3",
   "metadata": {},
   "outputs": [],
   "source": [
    "import pandas as pd"
   ]
  },
  {
   "cell_type": "code",
   "execution_count": null,
   "id": "afb200ec",
   "metadata": {},
   "outputs": [],
   "source": [
    "l1 = pd.read_csv('common.csv',header=None)\n",
    "print(l1)\n",
    "print(l1.dtypes)\n"
   ]
  },
  {
   "cell_type": "code",
   "execution_count": null,
   "id": "22e9d1d4",
   "metadata": {},
   "outputs": [],
   "source": [
    "l1.columns=['Words','Score']\n",
    "print(l1)"
   ]
  },
  {
   "cell_type": "code",
   "execution_count": null,
   "id": "7e898b09",
   "metadata": {},
   "outputs": [],
   "source": [
    "prev = pd.read_csv('previous.csv',sep=' ',header=None)\n",
    "prev.columns=['Words']"
   ]
  },
  {
   "cell_type": "code",
   "execution_count": null,
   "id": "d6735e80",
   "metadata": {},
   "outputs": [],
   "source": [
    "print(prev)\n",
    "print(l1.iloc[4])"
   ]
  },
  {
   "cell_type": "code",
   "execution_count": null,
   "id": "7b08d97c",
   "metadata": {},
   "outputs": [],
   "source": [
    "lis = []\n",
    "for n in prev['Words']:\n",
    "    \n",
    "    countIndex = 0\n",
    "    \n",
    "    for i in l1['Words']:\n",
    "        if n == i.upper():\n",
    "            lis.append(countIndex) \n",
    "        countIndex += 1\n",
    "\n",
    "\n",
    "        \n",
    "l1 = l1.drop(lis)\n",
    "l1 = l1.reset_index().drop('index', axis=1)\n",
    "\n",
    "print(l1)"
   ]
  },
  {
   "cell_type": "code",
   "execution_count": null,
   "id": "9db1edf1",
   "metadata": {},
   "outputs": [],
   "source": [
    "#n1 = input('Give me your first word:')"
   ]
  },
  {
   "cell_type": "code",
   "execution_count": null,
   "id": "56353897",
   "metadata": {},
   "outputs": [],
   "source": [
    "\n",
    "def wordDel(n,a,l1 = l1):    \n",
    "    if 'N' == a:\n",
    "        countIndex = 0\n",
    "        for i in l1['Words']:\n",
    "            if n == i.upper():\n",
    "                l1 = l1.drop(countIndex)\n",
    "                countIndex += 1\n",
    "        l1 = l1.reset_index().drop('index', axis=1)\n",
    "    else:\n",
    "        print('Congradulations!')\n",
    "    \n",
    "    return l1\n",
    "\n",
    "#l1 = wordDel(n1)"
   ]
  },
  {
   "cell_type": "code",
   "execution_count": null,
   "id": "9b3bfd7d",
   "metadata": {},
   "outputs": [],
   "source": [
    "\n",
    "\n",
    "def blackLet(yLis, gLis, l1 = l1):\n",
    "    x = input('Give me your black letters (eg: XYZ)')\n",
    "    for i in x:\n",
    "        countIndex = 0 \n",
    "        for j in l1['Words']:\n",
    "            #print(j.upper())\n",
    "            #print(j.upper().__contains__(i.upper()))\n",
    "            if (j.upper().__contains__(i.upper())) and (i.upper() not in yLis) and (i.upper() not in gLis):\n",
    "                l1 = l1.drop(countIndex)\n",
    "            countIndex += 1\n",
    "        l1 = l1.reset_index().drop('index', axis=1)\n",
    "    print(l1)\n",
    "    return l1\n",
    "\n",
    "#l1 = blackLet()\n",
    "\n"
   ]
  },
  {
   "cell_type": "code",
   "execution_count": null,
   "id": "77335122",
   "metadata": {},
   "outputs": [],
   "source": [
    "def yellowLet(l1 =l1):\n",
    "    yLis = []\n",
    "    while 'Y' == input('Is there another yellow letter (Y/N):'):\n",
    "        let = input('Give me the letter (eg. Y):')\n",
    "        posit = int(input('Give me the position (eg. 3)'))\n",
    "        yLis.append(let.upper())\n",
    "        countIndex = 0\n",
    "        for j in l1['Words']:\n",
    "            if (j.upper().__contains__(let.upper())) and (j[posit-1].upper() != let.upper()):\n",
    "                pass\n",
    "            else:\n",
    "                l1 = l1.drop(countIndex)\n",
    "            countIndex += 1\n",
    "        l1 = l1.reset_index().drop('index', axis=1)\n",
    "    print(l1)\n",
    "    return l1,yLis\n",
    "\n",
    "#l1 = yellowLet()\n"
   ]
  },
  {
   "cell_type": "code",
   "execution_count": null,
   "id": "1ccf37e0",
   "metadata": {},
   "outputs": [],
   "source": [
    "def greenLet(l1 = l1):\n",
    "    gLis = []\n",
    "    while 'Y' == input('Is there another green letter (Y/N):'):\n",
    "        let = input('Give me the letter (eg. Y):')\n",
    "        posit = int(input('Give me the position (eg. 3)'))\n",
    "        gLis.append(let.upper())\n",
    "        countIndex = 0\n",
    "        for j in l1['Words']:\n",
    "            if j[posit-1] == let.upper():\n",
    "                pass\n",
    "            else:\n",
    "                l1 = l1.drop(countIndex)\n",
    "            countIndex += 1\n",
    "        l1 = l1.reset_index().drop('index', axis=1)\n",
    "    print(l1)\n",
    "    return l1,gLis\n",
    "\n",
    "#l1 = greenLet()\n",
    "\n",
    "    "
   ]
  },
  {
   "cell_type": "code",
   "execution_count": null,
   "id": "500cd118",
   "metadata": {},
   "outputs": [],
   "source": [
    "def startGame(l1):\n",
    "    game = True\n",
    "    while game == True:\n",
    "        n1 = n1 = input('Give me your word:')\n",
    "        a = input('Is it the answer (Y/N):')\n",
    "        if a == 'N':\n",
    "            l1 = wordDel(n1,a,l1)\n",
    "            l1,yLis = yellowLet(l1)\n",
    "            l1,gLis = greenLet(l1)\n",
    "            l1 = blackLet(yLis, gLis, l1)\n",
    "            \n",
    "            print('Pick a word: ',l1)\n",
    "        else:\n",
    "            print('Congradualtions!')\n",
    "            game = False"
   ]
  },
  {
   "cell_type": "code",
   "execution_count": null,
   "id": "c5903af0",
   "metadata": {},
   "outputs": [],
   "source": [
    "startGame(l1)"
   ]
  },
  {
   "cell_type": "code",
   "execution_count": null,
   "id": "8de96da0",
   "metadata": {},
   "outputs": [],
   "source": []
  }
 ],
 "metadata": {
  "kernelspec": {
   "display_name": "Python 3 (ipykernel)",
   "language": "python",
   "name": "python3"
  },
  "language_info": {
   "codemirror_mode": {
    "name": "ipython",
    "version": 3
   },
   "file_extension": ".py",
   "mimetype": "text/x-python",
   "name": "python",
   "nbconvert_exporter": "python",
   "pygments_lexer": "ipython3",
   "version": "3.9.12"
  }
 },
 "nbformat": 4,
 "nbformat_minor": 5
}
